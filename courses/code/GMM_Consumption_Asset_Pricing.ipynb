{
  "cells": [
    {
      "cell_type": "markdown",
      "metadata": {
        "id": "view-in-github",
        "colab_type": "text"
      },
      "source": [
        "<a href=\"https://colab.research.google.com/github/jfimbett/jfimbett.github.io/blob/master/courses/code/GMM_Consumption_Asset_Pricing.ipynb\" target=\"_parent\"><img src=\"https://colab.research.google.com/assets/colab-badge.svg\" alt=\"Open In Colab\"/></a>"
      ]
    },
    {
      "cell_type": "markdown",
      "id": "ea740ed9",
      "metadata": {
        "id": "ea740ed9"
      },
      "source": [
        "# Consumption Based Asset Pricing through GMM\n",
        "\n",
        "## Empirical Asset Pricing\n",
        "## Lecturer: Juan F. Imbet\n",
        "## Paris-Dauphine University"
      ]
    },
    {
      "cell_type": "markdown",
      "id": "e318f374",
      "metadata": {
        "id": "e318f374"
      },
      "source": [
        "The first order condition of an investor maximizing expected utility and smoothing consumption by investing in a financial asset satisfies\n",
        "\n",
        "$$ \n",
        "1 = \\mathbb{E}_t[M_{t+1} R_{t+1}]\n",
        "$$"
      ]
    },
    {
      "cell_type": "markdown",
      "id": "1fc23da7",
      "metadata": {
        "id": "1fc23da7"
      },
      "source": [
        "The simplest parametrization of the Stochastic Discount Factor (SDF) that assumes power utility (CRRA) implies\n"
      ]
    },
    {
      "cell_type": "markdown",
      "id": "b8fd7030",
      "metadata": {
        "id": "b8fd7030"
      },
      "source": [
        "$$\n",
        "1 = \\mathbb{E}_t \\Big[\\delta \\Big(\\frac{C_{t+1}}{C_t}\\Big)^{-\\gamma} R_{t+1}\\Big]\n",
        "$$"
      ]
    },
    {
      "cell_type": "markdown",
      "id": "b4f22ffd",
      "metadata": {
        "id": "b4f22ffd"
      },
      "source": [
        "We can convert this conditional expectation into an unconditional expectation by multiplying the expression using an instrument $z_t \\in \\mathcal{I}_t$ (E.g. $R_t$ or $\\frac{C_t}{C_{t-1}}$)"
      ]
    },
    {
      "cell_type": "markdown",
      "id": "8f236224",
      "metadata": {
        "id": "8f236224"
      },
      "source": [
        "$$ \n",
        "z_t = \\mathbb{E}_t \\Big[\\delta \\Big( \\frac{C_{t+1}}{C_t}\\Big)^{-\\gamma} R_{t+1} z_t\\Big]\n",
        "$$\n",
        "\n",
        "$$ \n",
        "\\mathbb{E}_t \\Big[\\delta \\Big( \\frac{C_{t+1}}{C_t}\\Big)^{-\\gamma}  R_{t+1} z_t - z_t\\Big] =0 \n",
        "$$\n",
        "\n",
        "$$ \n",
        "\\mathbb{E} \\Big[\\mathbb{E}_t \\Big[\\delta \\Big( \\frac{C_{t+1}}{C_t}\\Big)^{-\\gamma} R_{t+1} z_t - z_t\\Big]\\Big]\n",
        "$$"
      ]
    },
    {
      "cell_type": "markdown",
      "id": "a9bdc839",
      "metadata": {
        "id": "a9bdc839"
      },
      "source": [
        "Law of iterated expectations"
      ]
    },
    {
      "cell_type": "markdown",
      "id": "088f30b1",
      "metadata": {
        "id": "088f30b1"
      },
      "source": [
        "$$\n",
        "\\mathbb{E} \\Big[ \\Big(\\delta \\Big(\\frac{C_{t+1}}{C_t} \\Big)^{-\\gamma}R_{t+1}-1  \\Big)z_t \\Big]=0\n",
        "$$"
      ]
    },
    {
      "cell_type": "markdown",
      "id": "0cae421b",
      "metadata": {
        "id": "0cae421b"
      },
      "source": [
        "Since we have 2 parameters we will use 3 instruments to estimate the model $z_t = 1, z_t = \\Big(\\frac{C_t}{C_{t-1}}\\Big), z_t = R_t$"
      ]
    },
    {
      "cell_type": "markdown",
      "id": "22dd6767",
      "metadata": {
        "id": "22dd6767"
      },
      "source": [
        "The residual vector becomes\n",
        "\n",
        "$$\n",
        "g_T(\\theta)=\\frac{1}{T}\\sum_{t=1}^T \\begin{bmatrix} \\Big(\\delta \\Big(\\frac{C_{t+1}}{C_t} \\Big)^{-\\gamma}R_{t+1}-1  \\Big) \\\\ \\Big(\\delta \\Big(\\frac{C_{t+1}}{C_t} \\Big)^{-\\gamma}R_{t+1}-1  \\Big)R_t \\\\ \\Big(\\delta \\Big(\\frac{C_{t+1}}{C_t} \\Big)^{-\\gamma}R_{t+1}-1  \\Big) \\frac{C_{t}}{C_{t-1}} \\end{bmatrix}\n",
        "$$"
      ]
    },
    {
      "cell_type": "markdown",
      "id": "12447fef",
      "metadata": {
        "id": "12447fef"
      },
      "source": [
        "The GMM Estimator of $\\delta$ and $\\gamma$ comes from\n",
        "\n",
        "$$\n",
        "\\hat{\\theta} = \\arg \\min g_t(\\theta)'Wg_t(\\theta)\n",
        "$$"
      ]
    },
    {
      "cell_type": "markdown",
      "id": "faef3567",
      "metadata": {
        "id": "faef3567"
      },
      "source": [
        "## Obtain Data"
      ]
    },
    {
      "cell_type": "markdown",
      "id": "e857bae2",
      "metadata": {
        "id": "e857bae2"
      },
      "source": [
        "## Data:\n",
        "\n",
        "* Data on Returns from the US Market Portfolio\n",
        "* Consumption data from the FRED"
      ]
    },
    {
      "cell_type": "code",
      "execution_count": 1,
      "id": "19a72ecf",
      "metadata": {
        "id": "19a72ecf"
      },
      "outputs": [],
      "source": [
        "import numpy as np\n",
        "import pandas as pd\n",
        "import pandas_datareader as pdr\n",
        "import datetime\n",
        "import urllib.request\n",
        "import zipfile\n",
        "from scipy.optimize import minimize\n",
        "from scipy.stats import chi2"
      ]
    },
    {
      "cell_type": "code",
      "execution_count": 7,
      "id": "b193b32c",
      "metadata": {
        "id": "b193b32c",
        "outputId": "0faf22ff-527c-4dd8-999d-2c442af9dddb",
        "colab": {
          "base_uri": "https://localhost:8080/",
          "height": 206
        }
      },
      "outputs": [
        {
          "output_type": "execute_result",
          "data": {
            "text/plain": [
              "      Unnamed: 0  Mkt-RF   SMB   HML    RF\n",
              "1129      202008    7.63 -0.22 -2.95  0.01\n",
              "1130      202009   -3.63  0.04 -2.68  0.01\n",
              "1131      202010   -2.10  4.36  4.21  0.01\n",
              "1132      202011   12.47  5.82  2.14  0.01\n",
              "1133      202012    4.63  4.89 -1.51  0.01"
            ],
            "text/html": [
              "\n",
              "  <div id=\"df-6276934d-7124-4fe1-a030-ac90365fbc16\">\n",
              "    <div class=\"colab-df-container\">\n",
              "      <div>\n",
              "<style scoped>\n",
              "    .dataframe tbody tr th:only-of-type {\n",
              "        vertical-align: middle;\n",
              "    }\n",
              "\n",
              "    .dataframe tbody tr th {\n",
              "        vertical-align: top;\n",
              "    }\n",
              "\n",
              "    .dataframe thead th {\n",
              "        text-align: right;\n",
              "    }\n",
              "</style>\n",
              "<table border=\"1\" class=\"dataframe\">\n",
              "  <thead>\n",
              "    <tr style=\"text-align: right;\">\n",
              "      <th></th>\n",
              "      <th>Unnamed: 0</th>\n",
              "      <th>Mkt-RF</th>\n",
              "      <th>SMB</th>\n",
              "      <th>HML</th>\n",
              "      <th>RF</th>\n",
              "    </tr>\n",
              "  </thead>\n",
              "  <tbody>\n",
              "    <tr>\n",
              "      <th>1129</th>\n",
              "      <td>202008</td>\n",
              "      <td>7.63</td>\n",
              "      <td>-0.22</td>\n",
              "      <td>-2.95</td>\n",
              "      <td>0.01</td>\n",
              "    </tr>\n",
              "    <tr>\n",
              "      <th>1130</th>\n",
              "      <td>202009</td>\n",
              "      <td>-3.63</td>\n",
              "      <td>0.04</td>\n",
              "      <td>-2.68</td>\n",
              "      <td>0.01</td>\n",
              "    </tr>\n",
              "    <tr>\n",
              "      <th>1131</th>\n",
              "      <td>202010</td>\n",
              "      <td>-2.10</td>\n",
              "      <td>4.36</td>\n",
              "      <td>4.21</td>\n",
              "      <td>0.01</td>\n",
              "    </tr>\n",
              "    <tr>\n",
              "      <th>1132</th>\n",
              "      <td>202011</td>\n",
              "      <td>12.47</td>\n",
              "      <td>5.82</td>\n",
              "      <td>2.14</td>\n",
              "      <td>0.01</td>\n",
              "    </tr>\n",
              "    <tr>\n",
              "      <th>1133</th>\n",
              "      <td>202012</td>\n",
              "      <td>4.63</td>\n",
              "      <td>4.89</td>\n",
              "      <td>-1.51</td>\n",
              "      <td>0.01</td>\n",
              "    </tr>\n",
              "  </tbody>\n",
              "</table>\n",
              "</div>\n",
              "      <button class=\"colab-df-convert\" onclick=\"convertToInteractive('df-6276934d-7124-4fe1-a030-ac90365fbc16')\"\n",
              "              title=\"Convert this dataframe to an interactive table.\"\n",
              "              style=\"display:none;\">\n",
              "        \n",
              "  <svg xmlns=\"http://www.w3.org/2000/svg\" height=\"24px\"viewBox=\"0 0 24 24\"\n",
              "       width=\"24px\">\n",
              "    <path d=\"M0 0h24v24H0V0z\" fill=\"none\"/>\n",
              "    <path d=\"M18.56 5.44l.94 2.06.94-2.06 2.06-.94-2.06-.94-.94-2.06-.94 2.06-2.06.94zm-11 1L8.5 8.5l.94-2.06 2.06-.94-2.06-.94L8.5 2.5l-.94 2.06-2.06.94zm10 10l.94 2.06.94-2.06 2.06-.94-2.06-.94-.94-2.06-.94 2.06-2.06.94z\"/><path d=\"M17.41 7.96l-1.37-1.37c-.4-.4-.92-.59-1.43-.59-.52 0-1.04.2-1.43.59L10.3 9.45l-7.72 7.72c-.78.78-.78 2.05 0 2.83L4 21.41c.39.39.9.59 1.41.59.51 0 1.02-.2 1.41-.59l7.78-7.78 2.81-2.81c.8-.78.8-2.07 0-2.86zM5.41 20L4 18.59l7.72-7.72 1.47 1.35L5.41 20z\"/>\n",
              "  </svg>\n",
              "      </button>\n",
              "      \n",
              "  <style>\n",
              "    .colab-df-container {\n",
              "      display:flex;\n",
              "      flex-wrap:wrap;\n",
              "      gap: 12px;\n",
              "    }\n",
              "\n",
              "    .colab-df-convert {\n",
              "      background-color: #E8F0FE;\n",
              "      border: none;\n",
              "      border-radius: 50%;\n",
              "      cursor: pointer;\n",
              "      display: none;\n",
              "      fill: #1967D2;\n",
              "      height: 32px;\n",
              "      padding: 0 0 0 0;\n",
              "      width: 32px;\n",
              "    }\n",
              "\n",
              "    .colab-df-convert:hover {\n",
              "      background-color: #E2EBFA;\n",
              "      box-shadow: 0px 1px 2px rgba(60, 64, 67, 0.3), 0px 1px 3px 1px rgba(60, 64, 67, 0.15);\n",
              "      fill: #174EA6;\n",
              "    }\n",
              "\n",
              "    [theme=dark] .colab-df-convert {\n",
              "      background-color: #3B4455;\n",
              "      fill: #D2E3FC;\n",
              "    }\n",
              "\n",
              "    [theme=dark] .colab-df-convert:hover {\n",
              "      background-color: #434B5C;\n",
              "      box-shadow: 0px 1px 3px 1px rgba(0, 0, 0, 0.15);\n",
              "      filter: drop-shadow(0px 1px 2px rgba(0, 0, 0, 0.3));\n",
              "      fill: #FFFFFF;\n",
              "    }\n",
              "  </style>\n",
              "\n",
              "      <script>\n",
              "        const buttonEl =\n",
              "          document.querySelector('#df-6276934d-7124-4fe1-a030-ac90365fbc16 button.colab-df-convert');\n",
              "        buttonEl.style.display =\n",
              "          google.colab.kernel.accessAllowed ? 'block' : 'none';\n",
              "\n",
              "        async function convertToInteractive(key) {\n",
              "          const element = document.querySelector('#df-6276934d-7124-4fe1-a030-ac90365fbc16');\n",
              "          const dataTable =\n",
              "            await google.colab.kernel.invokeFunction('convertToInteractive',\n",
              "                                                     [key], {});\n",
              "          if (!dataTable) return;\n",
              "\n",
              "          const docLinkHtml = 'Like what you see? Visit the ' +\n",
              "            '<a target=\"_blank\" href=https://colab.research.google.com/notebooks/data_table.ipynb>data table notebook</a>'\n",
              "            + ' to learn more about interactive tables.';\n",
              "          element.innerHTML = '';\n",
              "          dataTable['output_type'] = 'display_data';\n",
              "          await google.colab.output.renderOutput(dataTable, element);\n",
              "          const docLink = document.createElement('div');\n",
              "          docLink.innerHTML = docLinkHtml;\n",
              "          element.appendChild(docLink);\n",
              "        }\n",
              "      </script>\n",
              "    </div>\n",
              "  </div>\n",
              "  "
            ]
          },
          "metadata": {},
          "execution_count": 7
        }
      ],
      "source": [
        "\n",
        "# Obtain Data\n",
        "ff_url = \"https://mba.tuck.dartmouth.edu/pages/faculty/ken.french/ftp/F-F_Research_Data_Factors_CSV.zip\"\n",
        "# Download the file and save it\n",
        "# We will name it fama_french.zip file\n",
        "urllib.request.urlretrieve(ff_url,'fama_french.zip')\n",
        "zip_file = zipfile.ZipFile('fama_french.zip', 'r')\n",
        "# Next we extact the file data\n",
        "# We will call it ff_factors.csv\n",
        "zip_file.extractall()\n",
        "# Make sure you close the file after extraction\n",
        "zip_file.close() \n",
        "try:\n",
        "  ff_factors = pd.read_csv('F-F_Research_Data_Factors.csv', skiprows = 3, nrows = 1134)\n",
        "except:\n",
        "  ff_factors = pd.read_csv('F-F_Research_Data_Factors.CSV', skiprows = 3, nrows = 1134)\n",
        "ff_factors.tail()"
      ]
    },
    {
      "cell_type": "code",
      "execution_count": 8,
      "id": "d249e5d0",
      "metadata": {
        "id": "d249e5d0",
        "outputId": "5f193da4-bec3-4443-9aa4-bff05043cc43",
        "colab": {
          "base_uri": "https://localhost:8080/",
          "height": 206
        }
      },
      "outputs": [
        {
          "output_type": "execute_result",
          "data": {
            "text/plain": [
              "        date       R\n",
              "1129  202008  1.0764\n",
              "1130  202009  0.9638\n",
              "1131  202010  0.9791\n",
              "1132  202011  1.1248\n",
              "1133  202012  1.0464"
            ],
            "text/html": [
              "\n",
              "  <div id=\"df-1303b267-3a26-46fa-b2e8-678f8623cee6\">\n",
              "    <div class=\"colab-df-container\">\n",
              "      <div>\n",
              "<style scoped>\n",
              "    .dataframe tbody tr th:only-of-type {\n",
              "        vertical-align: middle;\n",
              "    }\n",
              "\n",
              "    .dataframe tbody tr th {\n",
              "        vertical-align: top;\n",
              "    }\n",
              "\n",
              "    .dataframe thead th {\n",
              "        text-align: right;\n",
              "    }\n",
              "</style>\n",
              "<table border=\"1\" class=\"dataframe\">\n",
              "  <thead>\n",
              "    <tr style=\"text-align: right;\">\n",
              "      <th></th>\n",
              "      <th>date</th>\n",
              "      <th>R</th>\n",
              "    </tr>\n",
              "  </thead>\n",
              "  <tbody>\n",
              "    <tr>\n",
              "      <th>1129</th>\n",
              "      <td>202008</td>\n",
              "      <td>1.0764</td>\n",
              "    </tr>\n",
              "    <tr>\n",
              "      <th>1130</th>\n",
              "      <td>202009</td>\n",
              "      <td>0.9638</td>\n",
              "    </tr>\n",
              "    <tr>\n",
              "      <th>1131</th>\n",
              "      <td>202010</td>\n",
              "      <td>0.9791</td>\n",
              "    </tr>\n",
              "    <tr>\n",
              "      <th>1132</th>\n",
              "      <td>202011</td>\n",
              "      <td>1.1248</td>\n",
              "    </tr>\n",
              "    <tr>\n",
              "      <th>1133</th>\n",
              "      <td>202012</td>\n",
              "      <td>1.0464</td>\n",
              "    </tr>\n",
              "  </tbody>\n",
              "</table>\n",
              "</div>\n",
              "      <button class=\"colab-df-convert\" onclick=\"convertToInteractive('df-1303b267-3a26-46fa-b2e8-678f8623cee6')\"\n",
              "              title=\"Convert this dataframe to an interactive table.\"\n",
              "              style=\"display:none;\">\n",
              "        \n",
              "  <svg xmlns=\"http://www.w3.org/2000/svg\" height=\"24px\"viewBox=\"0 0 24 24\"\n",
              "       width=\"24px\">\n",
              "    <path d=\"M0 0h24v24H0V0z\" fill=\"none\"/>\n",
              "    <path d=\"M18.56 5.44l.94 2.06.94-2.06 2.06-.94-2.06-.94-.94-2.06-.94 2.06-2.06.94zm-11 1L8.5 8.5l.94-2.06 2.06-.94-2.06-.94L8.5 2.5l-.94 2.06-2.06.94zm10 10l.94 2.06.94-2.06 2.06-.94-2.06-.94-.94-2.06-.94 2.06-2.06.94z\"/><path d=\"M17.41 7.96l-1.37-1.37c-.4-.4-.92-.59-1.43-.59-.52 0-1.04.2-1.43.59L10.3 9.45l-7.72 7.72c-.78.78-.78 2.05 0 2.83L4 21.41c.39.39.9.59 1.41.59.51 0 1.02-.2 1.41-.59l7.78-7.78 2.81-2.81c.8-.78.8-2.07 0-2.86zM5.41 20L4 18.59l7.72-7.72 1.47 1.35L5.41 20z\"/>\n",
              "  </svg>\n",
              "      </button>\n",
              "      \n",
              "  <style>\n",
              "    .colab-df-container {\n",
              "      display:flex;\n",
              "      flex-wrap:wrap;\n",
              "      gap: 12px;\n",
              "    }\n",
              "\n",
              "    .colab-df-convert {\n",
              "      background-color: #E8F0FE;\n",
              "      border: none;\n",
              "      border-radius: 50%;\n",
              "      cursor: pointer;\n",
              "      display: none;\n",
              "      fill: #1967D2;\n",
              "      height: 32px;\n",
              "      padding: 0 0 0 0;\n",
              "      width: 32px;\n",
              "    }\n",
              "\n",
              "    .colab-df-convert:hover {\n",
              "      background-color: #E2EBFA;\n",
              "      box-shadow: 0px 1px 2px rgba(60, 64, 67, 0.3), 0px 1px 3px 1px rgba(60, 64, 67, 0.15);\n",
              "      fill: #174EA6;\n",
              "    }\n",
              "\n",
              "    [theme=dark] .colab-df-convert {\n",
              "      background-color: #3B4455;\n",
              "      fill: #D2E3FC;\n",
              "    }\n",
              "\n",
              "    [theme=dark] .colab-df-convert:hover {\n",
              "      background-color: #434B5C;\n",
              "      box-shadow: 0px 1px 3px 1px rgba(0, 0, 0, 0.15);\n",
              "      filter: drop-shadow(0px 1px 2px rgba(0, 0, 0, 0.3));\n",
              "      fill: #FFFFFF;\n",
              "    }\n",
              "  </style>\n",
              "\n",
              "      <script>\n",
              "        const buttonEl =\n",
              "          document.querySelector('#df-1303b267-3a26-46fa-b2e8-678f8623cee6 button.colab-df-convert');\n",
              "        buttonEl.style.display =\n",
              "          google.colab.kernel.accessAllowed ? 'block' : 'none';\n",
              "\n",
              "        async function convertToInteractive(key) {\n",
              "          const element = document.querySelector('#df-1303b267-3a26-46fa-b2e8-678f8623cee6');\n",
              "          const dataTable =\n",
              "            await google.colab.kernel.invokeFunction('convertToInteractive',\n",
              "                                                     [key], {});\n",
              "          if (!dataTable) return;\n",
              "\n",
              "          const docLinkHtml = 'Like what you see? Visit the ' +\n",
              "            '<a target=\"_blank\" href=https://colab.research.google.com/notebooks/data_table.ipynb>data table notebook</a>'\n",
              "            + ' to learn more about interactive tables.';\n",
              "          element.innerHTML = '';\n",
              "          dataTable['output_type'] = 'display_data';\n",
              "          await google.colab.output.renderOutput(dataTable, element);\n",
              "          const docLink = document.createElement('div');\n",
              "          docLink.innerHTML = docLinkHtml;\n",
              "          element.appendChild(docLink);\n",
              "        }\n",
              "      </script>\n",
              "    </div>\n",
              "  </div>\n",
              "  "
            ]
          },
          "metadata": {},
          "execution_count": 8
        }
      ],
      "source": [
        "ff_factors[\"R\"] = 1+(pd.to_numeric(ff_factors[\"Mkt-RF\"]) + pd.to_numeric(ff_factors[\"RF\"]))/100\n",
        "ff_factors = ff_factors.rename(columns = {\"Unnamed: 0\" : \"date\"})\n",
        "ff_factors = ff_factors[[\"date\", \"R\"]]\n",
        "ff_factors[\"date\"] = pd.to_numeric(ff_factors[\"date\"])\n",
        "ff_factors.tail()"
      ]
    },
    {
      "cell_type": "code",
      "execution_count": 9,
      "id": "cab715c6",
      "metadata": {
        "id": "cab715c6"
      },
      "outputs": [],
      "source": [
        "start = datetime.datetime (1920, 1, 1)\n",
        "end = datetime.datetime (2020, 6, 1)\n",
        "\n",
        "df = pdr.DataReader('PCE', 'fred', start, end)\n",
        "df = df.rename(columns = {\"PCE\" : \"C\"})\n",
        "df[\"date\"] = pd.to_numeric(df.index.strftime(\"%Y%m\"))\n",
        "df = df.reset_index()\n",
        "df = df[[\"date\", \"C\"]]"
      ]
    },
    {
      "cell_type": "code",
      "execution_count": 10,
      "id": "85deab0c",
      "metadata": {
        "id": "85deab0c"
      },
      "outputs": [],
      "source": [
        "df = pd.merge(ff_factors, df, on = [\"date\"])"
      ]
    },
    {
      "cell_type": "code",
      "execution_count": 11,
      "id": "86b25319",
      "metadata": {
        "id": "86b25319"
      },
      "outputs": [],
      "source": [
        "def g_T(θ, return_covariance = False):\n",
        "    δ = θ[0]\n",
        "    γ = θ[1]\n",
        "    C_tp1 = df[\"C\"].shift(-1)\n",
        "    C_t   = df[\"C\"]\n",
        "    C_tm1 = df[\"C\"].shift(1)\n",
        "    R_tp1 = df[\"R\"].shift(-1)\n",
        "    R_t   = df[\"R\"]\n",
        "    z_t = (1, R_t, C_t/C_tm1)\n",
        "    u_T = np.zeros(len(z_t))\n",
        "\n",
        "    v0 = (δ*((C_tp1/C_t)**-γ)*R_t-1)*1\n",
        "    u_T[0] = np.nanmean(v0)\n",
        "    v1 = (δ*((C_tp1/C_t)**-γ)*R_t-1)*R_t\n",
        "    u_T[1] = np.nanmean(v1)\n",
        "    v2 = (δ*((C_tp1/C_t)**-γ)*R_t-1)*C_t/C_tm1\n",
        "    u_T[2] = np.nanmean(v2)\n",
        "    \n",
        "    G = np.column_stack((v0,v1,v2))\n",
        "        \n",
        "    if return_covariance:\n",
        "        G= G[~np.isnan(G).any(axis=1)]\n",
        "        return np.cov(G.T), G.shape[0]\n",
        "    else:\n",
        "        return u_T\n",
        "\n",
        "\n",
        "    \n",
        "    "
      ]
    },
    {
      "cell_type": "code",
      "execution_count": 12,
      "id": "2950375c",
      "metadata": {
        "id": "2950375c"
      },
      "outputs": [],
      "source": [
        "def Q(θ, W=np.eye(3)):\n",
        "    g = g_T(θ)\n",
        "    return np.matmul(np.matmul(np.transpose(g),W),g)"
      ]
    },
    {
      "cell_type": "code",
      "execution_count": 24,
      "id": "0c3af63f",
      "metadata": {
        "id": "0c3af63f"
      },
      "outputs": [],
      "source": [
        "θ0 = np.array([0.0, 0.0])\n",
        "res = minimize(Q, θ0, tol=1e-12)"
      ]
    },
    {
      "cell_type": "code",
      "execution_count": 25,
      "id": "2484582f",
      "metadata": {
        "id": "2484582f",
        "outputId": "60e42cb0-c332-4a0b-dd8f-27678faa6698",
        "colab": {
          "base_uri": "https://localhost:8080/"
        }
      },
      "outputs": [
        {
          "output_type": "execute_result",
          "data": {
            "text/plain": [
              "array([ 1.06061679, 14.985345  ])"
            ]
          },
          "metadata": {},
          "execution_count": 25
        }
      ],
      "source": [
        "θ_hat = res.x\n",
        "θ_hat # focus on gamma not delta, as the initial guess is important, (what happens for a different value of )"
      ]
    },
    {
      "cell_type": "code",
      "execution_count": 16,
      "id": "05f430e1",
      "metadata": {
        "id": "05f430e1"
      },
      "outputs": [],
      "source": [
        "# Second Step\n",
        "S, T = g_T(θ_hat, return_covariance = True)\n",
        "Q2 = lambda θ : Q(θ , W=np.linalg.inv(S))\n",
        "res = minimize(Q2, θ0, tol=1e-12)"
      ]
    },
    {
      "cell_type": "code",
      "execution_count": 17,
      "id": "ff45f00b",
      "metadata": {
        "id": "ff45f00b",
        "outputId": "c3189f07-ac44-4360-8005-8af0fd0b1938",
        "colab": {
          "base_uri": "https://localhost:8080/"
        }
      },
      "outputs": [
        {
          "output_type": "execute_result",
          "data": {
            "text/plain": [
              "array([ 1.0739208 , 17.18455298])"
            ]
          },
          "metadata": {},
          "execution_count": 17
        }
      ],
      "source": [
        "θ_hat = res.x\n",
        "θ_hat"
      ]
    },
    {
      "cell_type": "code",
      "execution_count": 18,
      "id": "38e5ec8d",
      "metadata": {
        "id": "38e5ec8d"
      },
      "outputs": [],
      "source": [
        "# Standard Errors\n",
        "def Δg(θ):\n",
        "    # Compute derivative using first difference\n",
        "    dG1 = (g_T(θ+np.array([θ[0]/100,0]))-g_T(θ))/(θ[0]/100)\n",
        "    dG2 = (g_T(θ+np.array([0, θ[1]/100]))-g_T(θ))/(θ[1]/100)\n",
        "    return np.array([dG1, dG2]).T"
      ]
    },
    {
      "cell_type": "code",
      "execution_count": 19,
      "id": "287be326",
      "metadata": {
        "id": "287be326",
        "outputId": "acea7714-af6c-4e22-db60-7bbfd0b91c5c",
        "colab": {
          "base_uri": "https://localhost:8080/"
        }
      },
      "outputs": [
        {
          "output_type": "execute_result",
          "data": {
            "text/plain": [
              "9687.496069694529"
            ]
          },
          "metadata": {},
          "execution_count": 19
        }
      ],
      "source": [
        "D = (Δg(θ_hat))\n",
        "\n",
        "Σ = np.matmul(np.matmul(D.T, np.linalg.inv(S)),D)*(1/T)\n",
        "t_θ = θ_hat[0]/np.sqrt(Σ[0,0])\n",
        "t_γ = (θ_hat[1])/np.sqrt(Σ[1,1])\n",
        "t_γ"
      ]
    },
    {
      "cell_type": "markdown",
      "id": "e9de5772",
      "metadata": {
        "id": "e9de5772"
      },
      "source": [
        "## Test of overidentifying restrictions\n",
        "\n",
        "$$\n",
        "    T g_T(\\theta)'S^{-1}g_T(\\theta) \\sim \\chi^2_{N-K}\n",
        "$$"
      ]
    },
    {
      "cell_type": "code",
      "execution_count": 20,
      "id": "4a30a948",
      "metadata": {
        "id": "4a30a948",
        "outputId": "bf1b1550-8a4f-4da7-e0ae-6fdcc3dc4666",
        "colab": {
          "base_uri": "https://localhost:8080/"
        }
      },
      "outputs": [
        {
          "output_type": "execute_result",
          "data": {
            "text/plain": [
              "0.670059571786904"
            ]
          },
          "metadata": {},
          "execution_count": 20
        }
      ],
      "source": [
        "S, T= g_T(θ_hat, return_covariance = True)\n",
        "X2 = T*Q(θ_hat, W = np.linalg.inv(S))\n",
        "chi2.cdf(X2, 3-2, loc=0, scale=1)"
      ]
    },
    {
      "cell_type": "code",
      "execution_count": null,
      "id": "234f6bc7",
      "metadata": {
        "id": "234f6bc7"
      },
      "outputs": [],
      "source": []
    }
  ],
  "metadata": {
    "kernelspec": {
      "display_name": "base",
      "language": "python",
      "name": "python3"
    },
    "language_info": {
      "codemirror_mode": {
        "name": "ipython",
        "version": 3
      },
      "file_extension": ".py",
      "mimetype": "text/x-python",
      "name": "python",
      "nbconvert_exporter": "python",
      "pygments_lexer": "ipython3",
      "version": "3.9.13"
    },
    "vscode": {
      "interpreter": {
        "hash": "86d0edc593292869d05086cd706b79fd873ba9f78bc3eb54030c6c206b815955"
      }
    },
    "colab": {
      "provenance": [],
      "include_colab_link": true
    }
  },
  "nbformat": 4,
  "nbformat_minor": 5
}