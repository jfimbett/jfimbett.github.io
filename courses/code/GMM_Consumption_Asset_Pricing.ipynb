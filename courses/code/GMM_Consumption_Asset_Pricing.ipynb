{
 "cells": [
  {
   "cell_type": "markdown",
   "id": "ea740ed9",
   "metadata": {},
   "source": [
    "# Consumption Based Asset Pricing through GMM\n",
    "\n",
    "## Empirical Asset Pricing\n",
    "## Lecturer: Juan F. Imbet\n",
    "## Paris-Dauphine University"
   ]
  },
  {
   "cell_type": "markdown",
   "id": "e318f374",
   "metadata": {},
   "source": [
    "The first order condition of an investor maximizing expected utility and smoothing consumption by investing in a financial asset satisfies\n",
    "\n",
    "$$ \n",
    "1 = \\mathbb{E}_t[M_{t+1} R_{t+1}]\n",
    "$$"
   ]
  },
  {
   "cell_type": "markdown",
   "id": "1fc23da7",
   "metadata": {},
   "source": [
    "The simplest parametrization of the Stochastic Discount Factor (SDF) that assumes power utility (CRRA) implies\n"
   ]
  },
  {
   "cell_type": "markdown",
   "id": "b8fd7030",
   "metadata": {},
   "source": [
    "$$\n",
    "1 = \\mathbb{E}_t \\Big[\\delta \\Big(\\frac{C_{t+1}}{C_t}\\Big)^{-\\gamma} R_{t+1}\\Big]\n",
    "$$"
   ]
  },
  {
   "cell_type": "markdown",
   "id": "b4f22ffd",
   "metadata": {},
   "source": [
    "We can convert this conditional expectation into an unconditional expectation by multiplying the expression using an instrument $z_t \\in \\mathcal{I}_t$ (E.g. $R_t$ or $\\frac{C_t}{C_{t-1}}$)"
   ]
  },
  {
   "cell_type": "markdown",
   "id": "8f236224",
   "metadata": {},
   "source": [
    "$$ \n",
    "z_t = \\mathbb{E}_t \\Big[\\delta \\Big( \\frac{C_{t+1}}{C_t}\\Big)^{-\\gamma} R_{t+1} z_t\\Big]\n",
    "$$\n",
    "\n",
    "$$ \n",
    "\\mathbb{E}_t \\Big[\\delta \\Big( \\frac{C_{t+1}}{C_t}\\Big)^{-\\gamma}  R_{t+1} z_t - z_t\\Big] =0 \n",
    "$$\n",
    "\n",
    "$$ \n",
    "\\mathbb{E} \\Big[\\mathbb{E}_t \\Big[\\delta \\Big( \\frac{C_{t+1}}{C_t}\\Big)^{-\\gamma} R_{t+1} z_t - z_t\\Big]\\Big]\n",
    "$$"
   ]
  },
  {
   "cell_type": "markdown",
   "id": "a9bdc839",
   "metadata": {},
   "source": [
    "Law of iterated expectations"
   ]
  },
  {
   "cell_type": "markdown",
   "id": "088f30b1",
   "metadata": {},
   "source": [
    "$$\n",
    "\\mathbb{E} \\Big[ \\Big(\\delta \\Big(\\frac{C_{t+1}}{C_t} \\Big)^{-\\gamma}R_{t+1}-1  \\Big)z_t \\Big]=0\n",
    "$$"
   ]
  },
  {
   "cell_type": "markdown",
   "id": "0cae421b",
   "metadata": {},
   "source": [
    "Since we have 2 parameters we will use 3 instruments to estimate the model $z_t = 1, z_t = \\Big(\\frac{C_t}{C_{t-1}}\\Big), z_t = R_t$"
   ]
  },
  {
   "cell_type": "markdown",
   "id": "22dd6767",
   "metadata": {},
   "source": [
    "The residual vector becomes\n",
    "\n",
    "$$\n",
    "g_T(\\theta)=\\frac{1}{T}\\sum_{t=1}^T \\begin{bmatrix} \\Big(\\delta \\Big(\\frac{C_{t+1}}{C_t} \\Big)^{-\\gamma}R_{t+1}-1  \\Big) \\\\ \\Big(\\delta \\Big(\\frac{C_{t+1}}{C_t} \\Big)^{-\\gamma}R_{t+1}-1  \\Big)R_t \\\\ \\Big(\\delta \\Big(\\frac{C_{t+1}}{C_t} \\Big)^{-\\gamma}R_{t+1}-1  \\Big) \\frac{C_{t}}{C_{t-1}} \\end{bmatrix}\n",
    "$$"
   ]
  },
  {
   "cell_type": "markdown",
   "id": "12447fef",
   "metadata": {},
   "source": [
    "The GMM Estimator of $\\delta$ and $\\gamma$ comes from\n",
    "\n",
    "$$\n",
    "\\hat{\\theta} = \\arg \\min g_t(\\theta)'Wg_t(\\theta)\n",
    "$$"
   ]
  },
  {
   "cell_type": "markdown",
   "id": "faef3567",
   "metadata": {},
   "source": [
    "## Obtain Data"
   ]
  },
  {
   "cell_type": "markdown",
   "id": "e857bae2",
   "metadata": {},
   "source": [
    "## Data:\n",
    "\n",
    "* Data on Returns from the US Market Portfolio\n",
    "* Consumption data from the FRED"
   ]
  },
  {
   "cell_type": "code",
   "execution_count": 1,
   "id": "19a72ecf",
   "metadata": {},
   "outputs": [],
   "source": [
    "import numpy as np\n",
    "import pandas as pd\n",
    "import pandas_datareader as pdr\n",
    "import datetime\n",
    "import urllib.request\n",
    "import zipfile\n",
    "from scipy.optimize import minimize\n",
    "from scipy.stats import chi2"
   ]
  },
  {
   "cell_type": "code",
   "execution_count": 2,
   "id": "b193b32c",
   "metadata": {},
   "outputs": [
    {
     "data": {
      "text/html": [
       "<div>\n",
       "<style scoped>\n",
       "    .dataframe tbody tr th:only-of-type {\n",
       "        vertical-align: middle;\n",
       "    }\n",
       "\n",
       "    .dataframe tbody tr th {\n",
       "        vertical-align: top;\n",
       "    }\n",
       "\n",
       "    .dataframe thead th {\n",
       "        text-align: right;\n",
       "    }\n",
       "</style>\n",
       "<table border=\"1\" class=\"dataframe\">\n",
       "  <thead>\n",
       "    <tr style=\"text-align: right;\">\n",
       "      <th></th>\n",
       "      <th>Unnamed: 0</th>\n",
       "      <th>Mkt-RF</th>\n",
       "      <th>SMB</th>\n",
       "      <th>HML</th>\n",
       "      <th>RF</th>\n",
       "    </tr>\n",
       "  </thead>\n",
       "  <tbody>\n",
       "    <tr>\n",
       "      <th>1129</th>\n",
       "      <td>202008</td>\n",
       "      <td>7.63</td>\n",
       "      <td>-0.22</td>\n",
       "      <td>-2.95</td>\n",
       "      <td>0.01</td>\n",
       "    </tr>\n",
       "    <tr>\n",
       "      <th>1130</th>\n",
       "      <td>202009</td>\n",
       "      <td>-3.63</td>\n",
       "      <td>0.04</td>\n",
       "      <td>-2.68</td>\n",
       "      <td>0.01</td>\n",
       "    </tr>\n",
       "    <tr>\n",
       "      <th>1131</th>\n",
       "      <td>202010</td>\n",
       "      <td>-2.10</td>\n",
       "      <td>4.36</td>\n",
       "      <td>4.21</td>\n",
       "      <td>0.01</td>\n",
       "    </tr>\n",
       "    <tr>\n",
       "      <th>1132</th>\n",
       "      <td>202011</td>\n",
       "      <td>12.47</td>\n",
       "      <td>5.82</td>\n",
       "      <td>2.14</td>\n",
       "      <td>0.01</td>\n",
       "    </tr>\n",
       "    <tr>\n",
       "      <th>1133</th>\n",
       "      <td>202012</td>\n",
       "      <td>4.63</td>\n",
       "      <td>4.89</td>\n",
       "      <td>-1.51</td>\n",
       "      <td>0.01</td>\n",
       "    </tr>\n",
       "  </tbody>\n",
       "</table>\n",
       "</div>"
      ],
      "text/plain": [
       "      Unnamed: 0  Mkt-RF   SMB   HML    RF\n",
       "1129      202008    7.63 -0.22 -2.95  0.01\n",
       "1130      202009   -3.63  0.04 -2.68  0.01\n",
       "1131      202010   -2.10  4.36  4.21  0.01\n",
       "1132      202011   12.47  5.82  2.14  0.01\n",
       "1133      202012    4.63  4.89 -1.51  0.01"
      ]
     },
     "execution_count": 2,
     "metadata": {},
     "output_type": "execute_result"
    }
   ],
   "source": [
    "# Obtain Data\n",
    "ff_url = \"https://mba.tuck.dartmouth.edu/pages/faculty/ken.french/ftp/F-F_Research_Data_Factors_CSV.zip\"\n",
    "# Download the file and save it\n",
    "# We will name it fama_french.zip file\n",
    "urllib.request.urlretrieve(ff_url,'fama_french.zip')\n",
    "zip_file = zipfile.ZipFile('fama_french.zip', 'r')\n",
    "# Next we extact the file data\n",
    "# We will call it ff_factors.csv\n",
    "zip_file.extractall()\n",
    "# Make sure you close the file after extraction\n",
    "zip_file.close()\n",
    "ff_factors = pd.read_csv('F-F_Research_Data_Factors.csv', skiprows = 3, nrows = 1134)\n",
    "ff_factors.tail()"
   ]
  },
  {
   "cell_type": "code",
   "execution_count": 3,
   "id": "d249e5d0",
   "metadata": {},
   "outputs": [
    {
     "data": {
      "text/html": [
       "<div>\n",
       "<style scoped>\n",
       "    .dataframe tbody tr th:only-of-type {\n",
       "        vertical-align: middle;\n",
       "    }\n",
       "\n",
       "    .dataframe tbody tr th {\n",
       "        vertical-align: top;\n",
       "    }\n",
       "\n",
       "    .dataframe thead th {\n",
       "        text-align: right;\n",
       "    }\n",
       "</style>\n",
       "<table border=\"1\" class=\"dataframe\">\n",
       "  <thead>\n",
       "    <tr style=\"text-align: right;\">\n",
       "      <th></th>\n",
       "      <th>date</th>\n",
       "      <th>R</th>\n",
       "    </tr>\n",
       "  </thead>\n",
       "  <tbody>\n",
       "    <tr>\n",
       "      <th>1129</th>\n",
       "      <td>202008</td>\n",
       "      <td>1.0764</td>\n",
       "    </tr>\n",
       "    <tr>\n",
       "      <th>1130</th>\n",
       "      <td>202009</td>\n",
       "      <td>0.9638</td>\n",
       "    </tr>\n",
       "    <tr>\n",
       "      <th>1131</th>\n",
       "      <td>202010</td>\n",
       "      <td>0.9791</td>\n",
       "    </tr>\n",
       "    <tr>\n",
       "      <th>1132</th>\n",
       "      <td>202011</td>\n",
       "      <td>1.1248</td>\n",
       "    </tr>\n",
       "    <tr>\n",
       "      <th>1133</th>\n",
       "      <td>202012</td>\n",
       "      <td>1.0464</td>\n",
       "    </tr>\n",
       "  </tbody>\n",
       "</table>\n",
       "</div>"
      ],
      "text/plain": [
       "        date       R\n",
       "1129  202008  1.0764\n",
       "1130  202009  0.9638\n",
       "1131  202010  0.9791\n",
       "1132  202011  1.1248\n",
       "1133  202012  1.0464"
      ]
     },
     "execution_count": 3,
     "metadata": {},
     "output_type": "execute_result"
    }
   ],
   "source": [
    "ff_factors[\"R\"] = 1+(pd.to_numeric(ff_factors[\"Mkt-RF\"]) + pd.to_numeric(ff_factors[\"RF\"]))/100\n",
    "ff_factors = ff_factors.rename(columns = {\"Unnamed: 0\" : \"date\"})\n",
    "ff_factors = ff_factors[[\"date\", \"R\"]]\n",
    "ff_factors[\"date\"] = pd.to_numeric(ff_factors[\"date\"])\n",
    "ff_factors.tail()"
   ]
  },
  {
   "cell_type": "code",
   "execution_count": 4,
   "id": "cab715c6",
   "metadata": {},
   "outputs": [],
   "source": [
    "start = datetime.datetime (1920, 1, 1)\n",
    "end = datetime.datetime (2020, 6, 1)\n",
    "\n",
    "df = pdr.DataReader('PCE', 'fred', start, end)\n",
    "df = df.rename(columns = {\"PCE\" : \"C\"})\n",
    "df[\"date\"] = pd.to_numeric(df.index.strftime(\"%Y%m\"))\n",
    "df = df.reset_index()\n",
    "df = df[[\"date\", \"C\"]]"
   ]
  },
  {
   "cell_type": "code",
   "execution_count": 5,
   "id": "85deab0c",
   "metadata": {},
   "outputs": [],
   "source": [
    "df = pd.merge(ff_factors, df, on = [\"date\"])"
   ]
  },
  {
   "cell_type": "code",
   "execution_count": 6,
   "id": "86b25319",
   "metadata": {},
   "outputs": [],
   "source": [
    "def g_T(θ, return_covariance = False):\n",
    "    δ = θ[0]\n",
    "    γ = θ[1]\n",
    "    C_tp1 = df[\"C\"].shift(-1)\n",
    "    C_t   = df[\"C\"]\n",
    "    C_tm1 = df[\"C\"].shift(1)\n",
    "    R_tp1 = df[\"R\"].shift(-1)\n",
    "    R_t   = df[\"R\"]\n",
    "    z_t = (1, R_t, C_t/C_tm1)\n",
    "    u_T = np.zeros(len(z_t))\n",
    "\n",
    "    v0 = (δ*((C_tp1/C_t)**-γ)*R_t-1)*1\n",
    "    u_T[0] = np.nanmean(v0)\n",
    "    v1 = (δ*((C_tp1/C_t)**-γ)*R_t-1)*R_t\n",
    "    u_T[1] = np.nanmean(v1)\n",
    "    v2 = (δ*((C_tp1/C_t)**-γ)*R_t-1)*C_t/C_tm1\n",
    "    u_T[2] = np.nanmean(v2)\n",
    "    \n",
    "    G = np.column_stack((v0,v1,v2))\n",
    "        \n",
    "    if return_covariance:\n",
    "        G= G[~np.isnan(G).any(axis=1)]\n",
    "        return np.cov(G.T), G.shape[0]\n",
    "    else:\n",
    "        return u_T\n",
    "\n",
    "\n",
    "    \n",
    "    "
   ]
  },
  {
   "cell_type": "code",
   "execution_count": 17,
   "id": "2950375c",
   "metadata": {},
   "outputs": [],
   "source": [
    "def Q(θ, W=np.eye(3)):\n",
    "    g = g_T(θ)\n",
    "    return np.matmul(np.matmul(np.transpose(g),W),g)"
   ]
  },
  {
   "cell_type": "code",
   "execution_count": 26,
   "id": "0c3af63f",
   "metadata": {},
   "outputs": [],
   "source": [
    "θ0 = np.array([0.5, 20])\n",
    "res = minimize(Q, θ0, tol=1e-12)"
   ]
  },
  {
   "cell_type": "code",
   "execution_count": 27,
   "id": "2484582f",
   "metadata": {},
   "outputs": [
    {
     "data": {
      "text/plain": [
       "array([ 1.06062032, 14.98628791])"
      ]
     },
     "execution_count": 27,
     "metadata": {},
     "output_type": "execute_result"
    }
   ],
   "source": [
    "θ_hat = res.x\n",
    "θ_hat # focus on gamma not delta, as the initial guess is important"
   ]
  },
  {
   "cell_type": "code",
   "execution_count": 28,
   "id": "05f430e1",
   "metadata": {},
   "outputs": [],
   "source": [
    "# Second Step\n",
    "S, T = g_T(θ_hat, return_covariance = True)\n",
    "Q2 = lambda θ : Q(θ , W=np.linalg.inv(S))\n",
    "res = minimize(Q2, θ0, tol=1e-12)"
   ]
  },
  {
   "cell_type": "code",
   "execution_count": 29,
   "id": "ff45f00b",
   "metadata": {},
   "outputs": [
    {
     "data": {
      "text/plain": [
       "array([ 1.07392082, 17.18455612])"
      ]
     },
     "execution_count": 29,
     "metadata": {},
     "output_type": "execute_result"
    }
   ],
   "source": [
    "θ_hat = res.x\n",
    "θ_hat"
   ]
  },
  {
   "cell_type": "code",
   "execution_count": 30,
   "id": "38e5ec8d",
   "metadata": {},
   "outputs": [],
   "source": [
    "# Standard Errors\n",
    "def Δg(θ):\n",
    "    # Compute derivative using first difference\n",
    "    dG1 = (g_T(θ+np.array([θ[0]/100,0]))-g_T(θ))/(θ[0]/100)\n",
    "    dG2 = (g_T(θ+np.array([0, θ[1]/100]))-g_T(θ))/(θ[1]/100)\n",
    "    return np.array([dG1, dG2]).T"
   ]
  },
  {
   "cell_type": "code",
   "execution_count": 34,
   "id": "287be326",
   "metadata": {},
   "outputs": [
    {
     "data": {
      "text/plain": [
       "9687.495705174373"
      ]
     },
     "execution_count": 34,
     "metadata": {},
     "output_type": "execute_result"
    }
   ],
   "source": [
    "D = (Δg(θ_hat))\n",
    "\n",
    "Σ = np.matmul(np.matmul(D.T, np.linalg.inv(S)),D)*(1/T)\n",
    "t_θ = θ_hat[0]/np.sqrt(Σ[0,0])\n",
    "t_γ = (θ_hat[1])/np.sqrt(Σ[1,1])\n",
    "t_γ"
   ]
  },
  {
   "cell_type": "markdown",
   "id": "e9de5772",
   "metadata": {},
   "source": [
    "## Test of overidentifying restrictions\n",
    "\n",
    "$$\n",
    "    T g_T(\\theta)'S^{-1}g_T(\\theta) \\sim \\chi^2_{N-K}\n",
    "$$"
   ]
  },
  {
   "cell_type": "code",
   "execution_count": 35,
   "id": "4a30a948",
   "metadata": {},
   "outputs": [
    {
     "data": {
      "text/plain": [
       "0.6700593612674755"
      ]
     },
     "execution_count": 35,
     "metadata": {},
     "output_type": "execute_result"
    }
   ],
   "source": [
    "S, T= g_T(θ_hat, return_covariance = True)\n",
    "X2 = T*Q(θ_hat, W = np.linalg.inv(S))\n",
    "chi2.cdf(X2, 3-2, loc=0, scale=1)"
   ]
  },
  {
   "cell_type": "code",
   "execution_count": null,
   "id": "234f6bc7",
   "metadata": {},
   "outputs": [],
   "source": []
  }
 ],
 "metadata": {
  "kernelspec": {
   "display_name": "base",
   "language": "python",
   "name": "python3"
  },
  "language_info": {
   "codemirror_mode": {
    "name": "ipython",
    "version": 3
   },
   "file_extension": ".py",
   "mimetype": "text/x-python",
   "name": "python",
   "nbconvert_exporter": "python",
   "pygments_lexer": "ipython3",
   "version": "3.9.13"
  },
  "vscode": {
   "interpreter": {
    "hash": "86d0edc593292869d05086cd706b79fd873ba9f78bc3eb54030c6c206b815955"
   }
  }
 },
 "nbformat": 4,
 "nbformat_minor": 5
}
