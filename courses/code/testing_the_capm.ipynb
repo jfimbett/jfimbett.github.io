{
  "cells": [
    {
      "cell_type": "markdown",
      "metadata": {
        "id": "view-in-github",
        "colab_type": "text"
      },
      "source": [
        "<a href=\"https://colab.research.google.com/github/jfimbett/jfimbett.github.io/blob/master/courses/code/testing_the_capm.ipynb\" target=\"_parent\"><img src=\"https://colab.research.google.com/assets/colab-badge.svg\" alt=\"Open In Colab\"/></a>"
      ]
    },
    {
      "cell_type": "code",
      "execution_count": 19,
      "metadata": {
        "id": "9sIe9VvOfZap"
      },
      "outputs": [],
      "source": [
        "import pandas as pd\n",
        "import numpy as np\n",
        "import requests\n",
        "import matplotlib.pyplot as plt\n",
        "from tqdm import tqdm\n",
        "from zipfile import ZipFile\n",
        "import os\n",
        "\n",
        "import statsmodels.api as sm\n",
        "from statsmodels.regression.linear_model import OLS"
      ]
    },
    {
      "cell_type": "code",
      "execution_count": 20,
      "metadata": {
        "colab": {
          "base_uri": "https://localhost:8080/"
        },
        "id": "bQ0Og0WVfgva",
        "outputId": "71474ff7-105a-4222-acaa-a986a971bae0"
      },
      "outputs": [
        {
          "output_type": "stream",
          "name": "stderr",
          "text": [
            "100%|██████████| 2/2 [00:03<00:00,  1.70s/it]\n"
          ]
        }
      ],
      "source": [
        "base_url = 'https://mba.tuck.dartmouth.edu/pages/faculty/ken.french/ftp/'\n",
        "\n",
        "# possible datasets\n",
        "datasets = ['F-F_Research_Data_Factors_CSV.zip',\n",
        "            '30_Industry_Portfolios_CSV.zip']\n",
        "\n",
        "# first we download the data, then we read it, then we delete the folders\n",
        "for dataset in tqdm(datasets):\n",
        "    # download the data\n",
        "    url = base_url + dataset\n",
        "    r = requests.get(url, allow_redirects=True)\n",
        "    open(dataset, 'wb').write(r.content)\n",
        "    # read the data\n",
        "    with ZipFile(dataset, 'r') as zipObj:\n",
        "        # Extract all the contents of zip file in current directory\n",
        "        zipObj.extractall()"
      ]
    },
    {
      "cell_type": "code",
      "execution_count": 21,
      "metadata": {
        "id": "A6tvj-qpfwFD"
      },
      "outputs": [],
      "source": [
        "with open('30_Industry_Portfolios.CSV') as f:\n",
        "    for i, line in enumerate(f):\n",
        "        if line.startswith(','):\n",
        "            start_ = i\n",
        "            break\n",
        "    for j, line in enumerate(f):\n",
        "        if line == '\\n' and j > start_:\n",
        "            end_ = j\n",
        "            break\n",
        "\n",
        "# read the data from start_ to end_\n",
        "ind_df = pd.read_csv('30_Industry_Portfolios.CSV', skiprows=start_, nrows=end_-start_)\n",
        "# rename the first column to date and make it the index\n",
        "ind_df.rename(columns={'Unnamed: 0': 'date'}, inplace=True)\n",
        "\n",
        "# the year is the first four digits month the last two, make a date\n",
        "ind_df['date'] = pd.to_datetime(ind_df['date'].astype(str).str[:4] + '-' + ind_df['date'].astype(str).str[-2:])\n",
        "# move each date to the last day of the month\n",
        "ind_df['date'] = ind_df['date'] + pd.offsets.MonthEnd(0)\n",
        "\n",
        "# make date the index\n",
        "ind_df.set_index('date', inplace=True)\n",
        "\n",
        "# we dont need the data anymore, so we delete the folder\n",
        "os.remove('30_Industry_Portfolios.CSV')\n",
        "os.remove('30_Industry_Portfolios_CSV.zip')"
      ]
    },
    {
      "cell_type": "code",
      "execution_count": 22,
      "metadata": {
        "id": "GluQZXdXf2MK"
      },
      "outputs": [],
      "source": [
        "with open('F-F_Research_Data_Factors.CSV') as f:\n",
        "    for i, line in enumerate(f):\n",
        "        if line.startswith(','):\n",
        "            start_ = i\n",
        "            break\n",
        "    for j, line in enumerate(f):\n",
        "        if line == '\\n' and j > start_:\n",
        "            end_ = j\n",
        "            break\n",
        "\n",
        "# read the data from start_ to end_\n",
        "ff_df = pd.read_csv('F-F_Research_Data_Factors.CSV', skiprows=start_, nrows=end_-start_)\n",
        "# rename the first column to date and make it the index\n",
        "ff_df.rename(columns={'Unnamed: 0': 'date'}, inplace=True)\n",
        "\n",
        "# the year is the first four digits month the last two, make a date\n",
        "ff_df['date'] = pd.to_datetime(ff_df['date'].astype(str).str[:4] + '-' + ff_df['date'].astype(str).str[-2:])\n",
        "# move each date to the last day of the month\n",
        "ff_df['date'] = ff_df['date'] + pd.offsets.MonthEnd(0)\n",
        "\n",
        "# make date the index\n",
        "ff_df.set_index('date', inplace=True)\n",
        "\n",
        "# we dont need the data anymore, so we delete the folder\n",
        "os.remove('F-F_Research_Data_Factors.CSV')\n",
        "os.remove('F-F_Research_Data_Factors_CSV.zip')"
      ]
    },
    {
      "cell_type": "code",
      "execution_count": 23,
      "metadata": {
        "id": "SovvL1-7gn23"
      },
      "outputs": [],
      "source": [
        "# keep only the Mkt-RF and RFcolumn\n",
        "ff_df = ff_df[['Mkt-RF', 'RF']]"
      ]
    },
    {
      "cell_type": "code",
      "execution_count": 24,
      "metadata": {
        "id": "pe24zHLggvfB"
      },
      "outputs": [],
      "source": [
        "# merge the two dataframes on the index\n",
        "df = ind_df.merge(ff_df, left_index=True, right_index=True)"
      ]
    },
    {
      "cell_type": "code",
      "execution_count": 25,
      "metadata": {
        "id": "m0HvntcChKs_"
      },
      "outputs": [],
      "source": [
        "df.replace(-99.99, np.nan, inplace=True)\n",
        "df.replace(-999, np.nan, inplace=True)\n",
        "\n",
        "# make all returns by dividing by 100\n",
        "df = df/100"
      ]
    },
    {
      "cell_type": "code",
      "execution_count": 26,
      "metadata": {
        "colab": {
          "base_uri": "https://localhost:8080/"
        },
        "id": "u6a3ZIaMhMJG",
        "outputId": "eddbeff0-b9c1-4b2f-dafd-93e44836135b"
      },
      "outputs": [
        {
          "output_type": "stream",
          "name": "stderr",
          "text": [
            "32it [00:00, 3938.54it/s]\n",
            "32it [00:00, 40622.80it/s]\n"
          ]
        }
      ],
      "source": [
        "\n",
        "betas = np.zeros(len(df.columns))\n",
        "var_market = np.var(df['Mkt-RF'])\n",
        "for i, ind in tqdm(enumerate(df.columns)):\n",
        "    # compute betas\n",
        "    betas[i] = np.cov(df[ind], df['Mkt-RF'])[0,1]/var_market\n",
        "\n",
        "# make betas a series with the column names as index\n",
        "betas = pd.Series(betas, index=df.columns)\n",
        "\n",
        "# compute the sample mean of returns\n",
        "# we annualize\n",
        "mean_returns = df.mean()*100*12\n",
        "\n",
        "# compute the implied expected returns by the CAPM\n",
        "capm_returns = np.zeros(len(df.columns))\n",
        "for i, ind in tqdm(enumerate(df.columns)):\n",
        "    # compute the implied expected returns by the CAPM\n",
        "    capm_returns[i] = mean_returns['RF'] + betas[i]*(mean_returns['Mkt-RF'])\n",
        "\n",
        "# make capm_returns a series with the column names as index\n",
        "capm_returns = pd.Series(capm_returns, index=df.columns)"
      ]
    },
    {
      "cell_type": "code",
      "source": [],
      "metadata": {
        "id": "a7pMoJnq5G3B"
      },
      "execution_count": 26,
      "outputs": []
    },
    {
      "cell_type": "code",
      "execution_count": 27,
      "metadata": {
        "colab": {
          "base_uri": "https://localhost:8080/",
          "height": 295
        },
        "id": "JXfYjN6NhOqu",
        "outputId": "32713677-0467-48c5-85f9-06d844024fcd"
      },
      "outputs": [
        {
          "output_type": "display_data",
          "data": {
            "text/plain": [
              "<Figure size 432x288 with 1 Axes>"
            ],
            "image/png": "[encoded data removed]"
          },
          "metadata": {
            "needs_background": "light"
          }
        }
      ],
      "source": [
        "# plot the security market line and label axis\n",
        "plt.plot(betas, capm_returns, '-')\n",
        "plt.plot(betas, mean_returns, 'o')\n",
        "# x axist starts at 0\n",
        "plt.xlim(0, max(betas))\n",
        "# label the Mkt-RF point and 5 random other points\n",
        "plt.text(betas['Mkt-RF'], mean_returns['Mkt-RF'], 'Mkt-RF')\n",
        "for i in np.random.randint(1, len(df.columns), 5):\n",
        "    plt.text(betas[i], mean_returns[i], df.columns[i])\n",
        "plt.xlabel('Beta')\n",
        "plt.ylabel('Expected Return')\n",
        "plt.title('Security Market Line')\n",
        "plt.show()"
      ]
    },
    {
      "cell_type": "code",
      "execution_count": 28,
      "metadata": {
        "colab": {
          "base_uri": "https://localhost:8080/"
        },
        "id": "9a_HQ2JLhQr1",
        "outputId": "2015bca7-ea61-4702-8f50-ea3760d0ea01"
      },
      "outputs": [
        {
          "output_type": "stream",
          "name": "stderr",
          "text": [
            "100%|██████████| 1086/1086 [01:08<00:00, 15.86it/s]\n"
          ]
        }
      ],
      "source": [
        "\n",
        "w = 60 # window size\n",
        "# we create a dataframe with the betas\n",
        "betas_df = pd.DataFrame(index=df.index, columns=df.columns)\n",
        "sd_df = pd.DataFrame(index=df.index, columns=df.columns)\n",
        "# compute beta using data from t-w-1 to t-1 assign this beta to t\n",
        "# dont use the var_market computed before, as it is not a rolling window\n",
        "for t in tqdm(range(w, len(df))):\n",
        "    # compute the betas for each industry\n",
        "    for i, ind in enumerate(df.columns):\n",
        "        # compute betas\n",
        "        betas_df.iloc[t, i] = np.cov(df.iloc[t-w:t, i], df.iloc[t-w:t, -2])[0,1]/np.var(df.iloc[t-w:t, -2])\n",
        "        # compute the standard error of returns\n",
        "        sd_df.iloc[t,i] = np.std(df.iloc[t-w:t, i] - betas_df.iloc[t, i]*df.iloc[t-w:t, -2])\n",
        "        "
      ]
    },
    {
      "cell_type": "code",
      "execution_count": 29,
      "metadata": {
        "colab": {
          "base_uri": "https://localhost:8080/",
          "height": 284
        },
        "id": "ZfgPmSv3hUH1",
        "outputId": "798facfe-2d1f-4031-a944-f0ff8750e2f1"
      },
      "outputs": [
        {
          "output_type": "execute_result",
          "data": {
            "text/plain": [
              "[<matplotlib.lines.Line2D at 0x7f62bf0ca520>]"
            ]
          },
          "metadata": {},
          "execution_count": 29
        },
        {
          "output_type": "display_data",
          "data": {
            "text/plain": [
              "<Figure size 432x288 with 1 Axes>"
            ],
            "image/png": "[encoded data removed]"
          },
          "metadata": {
            "needs_background": "light"
          }
        }
      ],
      "source": [
        "# plot the betas for the finance industry\n",
        "plt.plot(betas_df['Fin  '])"
      ]
    },
    {
      "cell_type": "code",
      "execution_count": 30,
      "metadata": {
        "colab": {
          "base_uri": "https://localhost:8080/"
        },
        "id": "EGfhzZWehme5",
        "outputId": "26cb3d0e-a792-4cca-aefc-b5141684a7de"
      },
      "outputs": [
        {
          "output_type": "stream",
          "name": "stderr",
          "text": [
            "100%|██████████| 1086/1086 [00:01<00:00, 842.81it/s]\n"
          ]
        }
      ],
      "source": [
        "# we now do a series of cross sectional regressions\n",
        "# of the model \n",
        "# r = gamma_0 + gamma_1 beta + gamma_2 beta^2 + gamma_3 std\n",
        "# we use the betas and standard deviations computed above\n",
        "\n",
        "gamma_0 = np.zeros(len(df))\n",
        "gamma_1 = np.zeros(len(df))\n",
        "gamma_2 = np.zeros(len(df))\n",
        "gamma_3 = np.zeros(len(df))\n",
        "\n",
        "#betas_df = betas_df[[c for c in betas_df.columns if c!='Mkt-RF']]\n",
        "#sd_df = sd_df[[c for c in sd_df.columns if c!='Mkt-RF']]\n",
        "\n",
        "for t in tqdm(range(w, len(df))):\n",
        "\n",
        "    X = np.vstack([betas_df.iloc[t], betas_df.iloc[t]**2, sd_df.iloc[t]]).T\n",
        "    y = df.iloc[t].values\n",
        "    # convert X to float, makes missing values NaNs\n",
        "    X = X.astype(float)\n",
        "    # we use the OLS function from statsmodels\n",
        "    # we use the constant term\n",
        "    model = sm.OLS(y, sm.add_constant(X))\n",
        "    results = model.fit()\n",
        "    # obtain the coefficients\n",
        "    gamma_0[t] = results.params[0]\n",
        "    gamma_1[t] = results.params[1]\n",
        "    gamma_2[t] = results.params[2]\n",
        "    gamma_3[t] = results.params[3]\n",
        "\n",
        "# do a t test to see if gamma_0 equals mean_returns['RF']\n",
        "# we use the t test from statsmodels\n",
        "\n",
        "t_0 = (gamma_0[w:].mean() - mean_returns['RF'])/(gamma_0[w:].std()/np.sqrt(len(gamma_0[w:])))\n",
        "t_1 = (gamma_1[w:].mean()- mean_returns['Mkt-RF'])/(gamma_1[w:].std()/np.sqrt(len(gamma_1[w:])))\n",
        "# t_2 and t_3 have zero on the RHS\n",
        "t_2 = gamma_2[w:].mean()/(gamma_2[w:].std()/np.sqrt(len(gamma_2[w:])))\n",
        "t_3 = gamma_3[w:].mean()/(gamma_3[w:].std()/np.sqrt(len(gamma_3[w:])))\n",
        "    \n"
      ]
    },
    {
      "cell_type": "code",
      "execution_count": 31,
      "metadata": {
        "id": "M8kRysNdhrVW"
      },
      "outputs": [],
      "source": [
        "# do a t test to see if gamma_0 equals mean_returns['RF']\n",
        "# we use the t test from statsmodels\n",
        "\n",
        "t_0 = (gamma_0[w:].mean() - mean_returns['RF'])/(gamma_0[w:].std()/np.sqrt(len(gamma_0[w:])))\n",
        "t_1 = (gamma_1[w:].mean()- mean_returns['Mkt-RF'])/(gamma_1[w:].std()/np.sqrt(len(gamma_1[w:])))\n",
        "# t_2 and t_3 have zero on the RHS\n",
        "t_2 = gamma_2[w:].mean()/(gamma_2[w:].std()/np.sqrt(len(gamma_2[w:])))\n",
        "t_3 = gamma_3[w:].mean()/(gamma_3[w:].std()/np.sqrt(len(gamma_3[w:])))\n",
        "    \n"
      ]
    },
    {
      "cell_type": "code",
      "execution_count": 32,
      "metadata": {
        "colab": {
          "base_uri": "https://localhost:8080/"
        },
        "id": "xOPxIro1h_51",
        "outputId": "8bec4b76-bcbd-44c9-abb9-9031abb67f8a"
      },
      "outputs": [
        {
          "output_type": "stream",
          "name": "stdout",
          "text": [
            "t_0 = -5627.92, p_0 = 0.00\n",
            "t_1 = -3098.74, p_1 = 0.00\n",
            "t_2 = -3.51, p_2 = 0.00\n",
            "t_3 = 2.27, p_3 = 0.02\n"
          ]
        }
      ],
      "source": [
        "import scipy.stats as stats\n",
        "# compute the p-value of each t test and print the test results\n",
        "p_0 = 2*(1 - stats.t.cdf(abs(t_0), len(gamma_0[w:])))\n",
        "p_1 = 2*(1 - stats.t.cdf(abs(t_1), len(gamma_1[w:])))\n",
        "p_2 = 2*(1 - stats.t.cdf(abs(t_2), len(gamma_2[w:])))\n",
        "p_3 = 2*(1 - stats.t.cdf(abs(t_3), len(gamma_3[w:])))\n",
        "# print and round to 2 decimals\n",
        "print('t_0 = {:.2f}, p_0 = {:.2f}'.format(t_0, p_0))\n",
        "print('t_1 = {:.2f}, p_1 = {:.2f}'.format(t_1, p_1))\n",
        "print('t_2 = {:.2f}, p_2 = {:.2f}'.format(t_2, p_2))\n",
        "print('t_3 = {:.2f}, p_3 = {:.2f}'.format(t_3, p_3))"
      ]
    },
    {
      "cell_type": "code",
      "execution_count": 35,
      "metadata": {
        "id": "PlMpOmPXiCMc"
      },
      "outputs": [],
      "source": [
        "# estimate the alphas of the 30 portfolios with respect to the CAPM\n",
        "alphas = np.zeros(len(df.columns))\n",
        "# empty matrix to store the residuals\n",
        "residuals = np.zeros((len(df), len(df.columns)))\n",
        "for i, ind in enumerate(df.columns):\n",
        "    alphas[i] = (df.loc[:, ind]-df.loc[:, 'RF']).mean() - betas[ind]*df.loc[:, 'Mkt-RF'].mean()\n",
        "    residuals[:, i] = (df.loc[:, ind]-df.loc[:, 'RF']) - betas[ind]*df.loc[:, 'Mkt-RF']\n",
        "\n",
        "# %%\n",
        "# Covariance matrix of all portfolios\n",
        "Sigma = np.cov(residuals.T)\n",
        "# create GRS test\n",
        "T = len(df)\n",
        "N = len(df.columns) # note that we add 2 extra assets to the test\n",
        "# sharpe ratio of the market\n",
        "sharpe_mkt = (df.loc[:, 'Mkt-RF'].mean())/df.loc[:, 'Mkt-RF'].std()\n",
        "\n",
        "# compute the GRS statistic, the F test\n",
        "grs = (T*(T-N-1)/((T-2)*N))*alphas.T @ np.linalg.inv(Sigma) @ alphas /(1+sharpe_mkt**2)\n",
        "\n",
        "# the grs follows a F with N, T-N-1 degrees of freedome\n",
        "# compute the p-value\n",
        "p_grs = 1 - stats.f.cdf(grs, N, T-N-1)"
      ]
    },
    {
      "cell_type": "code",
      "source": [
        "p_grs"
      ],
      "metadata": {
        "id": "qiYLd9ax73jK",
        "outputId": "b5e5a4a5-cb63-4726-8f23-acaba351516a",
        "colab": {
          "base_uri": "https://localhost:8080/"
        }
      },
      "execution_count": 36,
      "outputs": [
        {
          "output_type": "execute_result",
          "data": {
            "text/plain": [
              "1.1102230246251565e-16"
            ]
          },
          "metadata": {},
          "execution_count": 36
        }
      ]
    },
    {
      "cell_type": "code",
      "source": [],
      "metadata": {
        "id": "ig8c58DX7_6J"
      },
      "execution_count": 34,
      "outputs": []
    }
  ],
  "metadata": {
    "colab": {
      "provenance": [],
      "include_colab_link": true
    },
    "kernelspec": {
      "display_name": "base",
      "language": "python",
      "name": "python3"
    },
    "language_info": {
      "name": "python",
      "version": "3.9.13 (main, Aug 25 2022, 23:51:50) [MSC v.1916 64 bit (AMD64)]"
    },
    "vscode": {
      "interpreter": {
        "hash": "86d0edc593292869d05086cd706b79fd873ba9f78bc3eb54030c6c206b815955"
      }
    }
  },
  "nbformat": 4,
  "nbformat_minor": 0
}