{
 "cells": [
  {
   "cell_type": "markdown",
   "metadata": {},
   "source": [
    "# Practical Exercise \n",
    "## Portfolio Optimization and Risk Management"
   ]
  },
  {
   "cell_type": "markdown",
   "metadata": {},
   "source": [
    "Consider the problem of dynamically allocating wealth between long and short positions in a portfolio of ETFs. The optimal portfolio will depend on real-world constraints. "
   ]
  },
  {
   "cell_type": "markdown",
   "metadata": {},
   "source": [
    "$$\n",
    "\\begin{align*}\n",
    "\\max \\mathbb{E}[|R_x-\\mu(\\mathbf{x})|] \\\\\n",
    "\\text{subject to} \\\\\n",
    "\\sum_{i=1}^n x_i = 1 \\rightarrow \\text{     Fully Invested} \\\\ \n",
    "l_i \\leq x_i \\leq u_i \\text{  }\\forall i=1,...,N \\rightarrow \\text{     Position Limits} \\\\\n",
    "\\end{align*}\n",
    "$$"
   ]
  },
  {
   "cell_type": "markdown",
   "metadata": {},
   "source": [
    "LP Formulation (based on scenario approach):\n",
    "\n",
    "$$\n",
    "\\begin{align*}\n",
    "\\min \\sum_{s=1}^m p_s d_s \\\\\n",
    "\\text{s.t.} \\\\\n",
    "d_s &\\geq \\sum_{j=1}^n x_j R_j(s) - \\sum_{j=1}^n x_j \\mu_j \\\\\n",
    "d_s &\\geq -(\\sum_{j=1}^n x_j R_j(s) - \\sum_{j=1}^n x_j \\mu_j) \\\\\n",
    "\\sum_{j=1}^n x_j = 1 \\\\\n",
    "\\sum_{j=1}^n x_j \\mu_j \\geq \\mu_0 \\\\\n",
    "\\mu_j = \\sum_{s=1}^m p_s R_j(s) \\\\\n",
    "l_i \\leq x_i \\leq u_i  \\\\\n",
    "\\end{align*}\n",
    "$$\n",
    "\n"
   ]
  },
  {
   "cell_type": "code",
   "execution_count": null,
   "metadata": {
    "vscode": {
     "languageId": "plaintext"
    }
   },
   "outputs": [],
   "source": []
  }
 ],
 "metadata": {
  "language_info": {
   "name": "python"
  },
  "orig_nbformat": 4
 },
 "nbformat": 4,
 "nbformat_minor": 2
}
